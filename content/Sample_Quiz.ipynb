{
 "cells": [
  {
   "cell_type": "markdown",
   "id": "64f60988-a01a-4366-a086-68f6b536fc04",
   "metadata": {},
   "source": [
    "# Quiz with 3 multiple choice question appearing on after the other"
   ]
  },
  {
   "cell_type": "code",
   "execution_count": 9,
   "id": "0fc7325a-2139-4a62-b8ad-0c44cc3c8693",
   "metadata": {
    "nbgrader": {
     "grade": true,
     "grade_id": "cell-a3ea2a6d483cce08",
     "locked": true,
     "points": 3,
     "schema_version": 3,
     "solution": false,
     "task": false
    }
   },
   "outputs": [
    {
     "data": {
      "application/vnd.jupyter.widget-view+json": {
       "model_id": "1e0f6d12ac454a4b9ee38a7d6af9da10",
       "version_major": 2,
       "version_minor": 0
      },
      "text/plain": [
       "Output()"
      ]
     },
     "metadata": {},
     "output_type": "display_data"
    }
   ],
   "source": [
    "from ipywidgets import RadioButtons, Button, Output, VBox, Label\n",
    "from IPython.display import display, clear_output\n",
    "\n",
    "# Define your quiz questions\n",
    "quiz = [\n",
    "    {\n",
    "        \"question\": \"What is the capital of France?\",\n",
    "        \"choices\": [\"Paris\", \"London\", \"Berlin\", \"Rome\"],\n",
    "        \"answer\": \"Paris\"\n",
    "    },\n",
    "    {\n",
    "        \"question\": \"Which planet is known as the Red Planet?\",\n",
    "        \"choices\": [\"Venus\", \"Saturn\", \"Mars\", \"Jupiter\"],\n",
    "        \"answer\": \"Mars\"\n",
    "    },\n",
    "    {\n",
    "        \"question\": \"What is 2 + 2 × 3?\",\n",
    "        \"choices\": [\"8\", \"10\", \"6\", \"12\"],\n",
    "        \"answer\": \"8\"\n",
    "    }\n",
    "]\n",
    "\n",
    "# Initialize state\n",
    "score = 0\n",
    "current = 0\n",
    "quiz_output = Output()\n",
    "\n",
    "def show_question(index):\n",
    "    global score, current\n",
    "    q = quiz[index]\n",
    "    \n",
    "    question_label = Label(value=f\"Q{index+1}: {q['question']}\")\n",
    "    choices_widget = RadioButtons(options=q[\"choices\"])\n",
    "    submit_btn = Button(description=\"Submit Answer\")\n",
    "    feedback_output = Output()\n",
    "\n",
    "    def on_submit(_):\n",
    "        global score, current\n",
    "        chosen = choices_widget.value\n",
    "        correct = q[\"answer\"]\n",
    "        \n",
    "        with feedback_output:\n",
    "            clear_output()\n",
    "            if chosen == correct:\n",
    "                score += 1\n",
    "                print(\"✅ Correct!\")\n",
    "            else:\n",
    "                print(f\"❌ Incorrect. The right answer was: {correct}\")\n",
    "        \n",
    "        current += 1\n",
    "        if current < len(quiz):\n",
    "            with quiz_output:\n",
    "                clear_output()\n",
    "                show_question(current)\n",
    "        else:\n",
    "            with quiz_output:\n",
    "                clear_output()\n",
    "                print(f\"🏁 Quiz complete! Your score: {score}/{len(quiz)}\")\n",
    "\n",
    "    submit_btn.on_click(on_submit)\n",
    "    \n",
    "    with quiz_output:\n",
    "        clear_output()\n",
    "        display(VBox([question_label, choices_widget, submit_btn, feedback_output]))\n",
    "\n",
    "# Start the quiz\n",
    "show_question(current)\n",
    "display(quiz_output)\n"
   ]
  },
  {
   "cell_type": "markdown",
   "id": "f918b3b8-d5b7-451f-918c-b7e86edad566",
   "metadata": {},
   "source": [
    "# Quiz with all questions visible"
   ]
  },
  {
   "cell_type": "code",
   "execution_count": null,
   "id": "e6238969-aa79-4078-b68c-6143a0b83387",
   "metadata": {
    "nbgrader": {
     "grade": true,
     "grade_id": "cell-213b560e513c12e3",
     "locked": true,
     "points": 3,
     "schema_version": 3,
     "solution": false,
     "task": false
    }
   },
   "outputs": [
    {
     "data": {
      "application/vnd.jupyter.widget-view+json": {
       "model_id": "ee1a1875bc88426da7e1b95236715c74",
       "version_major": 2,
       "version_minor": 0
      },
      "text/plain": [
       "VBox(children=(VBox(children=(Label(value='Q1: What is the capital of France?'), RadioButtons(options=('Berlin…"
      ]
     },
     "metadata": {},
     "output_type": "display_data"
    }
   ],
   "source": [
    "import random\n",
    "from ipywidgets import RadioButtons, Button, Output, VBox, Label\n",
    "from IPython.display import display, clear_output\n",
    "\n",
    "# Define your quiz questions\n",
    "quiz = [\n",
    "    {\n",
    "        \"question\": \"What is the capital of France?\",\n",
    "        \"choices\": [\"Paris\", \"London\", \"Berlin\", \"Rome\"],\n",
    "        \"answer\": \"Paris\"\n",
    "    },\n",
    "    {\n",
    "        \"question\": \"Which planet is known as the Red Planet?\",\n",
    "        \"choices\": [\"Venus\", \"Saturn\", \"Mars\", \"Jupiter\"],\n",
    "        \"answer\": \"Mars\"\n",
    "    },\n",
    "    {\n",
    "        \"question\": \"What is 2 + 2 × 3?\",\n",
    "        \"choices\": [\"8\", \"10\", \"6\", \"12\"],\n",
    "        \"answer\": \"8\"\n",
    "    }\n",
    "]\n",
    "\n",
    "# Create widget containers\n",
    "question_widgets = []\n",
    "response_widgets = []\n",
    "\n",
    "# Step 1: Build each question interface with shuffled choices\n",
    "for i, q in enumerate(quiz):\n",
    "    shuffled = q[\"choices\"].copy()\n",
    "    random.shuffle(shuffled)\n",
    "    label = Label(value=f\"Q{i+1}: {q['question']}\")\n",
    "    choices = RadioButtons(options=shuffled, value=None)\n",
    "    question_widgets.append(VBox([label, choices]))\n",
    "    response_widgets.append((choices, q[\"answer\"]))\n",
    "\n",
    "# Step 2: Output area and submit button\n",
    "result_output = Output()\n",
    "submit_btn = Button(description=\"Submit All Answers\", button_style='success')\n",
    "\n",
    "# Step 3: Evaluation logic\n",
    "def evaluate_all(_):\n",
    "    correct_count = 0\n",
    "    result_output.clear_output()\n",
    "\n",
    "    with result_output:\n",
    "        for i, (choices_widget, correct_answer) in enumerate(response_widgets):\n",
    "            selected = choices_widget.value\n",
    "            print(f\"Q{i+1}: Your answer → {selected}\")\n",
    "            if selected == correct_answer:\n",
    "                print(\"✅ Correct!\")\n",
    "                correct_count += 1\n",
    "            else:\n",
    "                print(f\"❌ Incorrect. Correct answer → {correct_answer}\")\n",
    "            print()\n",
    "        print(f\"🏁 Quiz complete! Your score: {correct_count}/{len(quiz)}\")\n",
    "\n",
    "submit_btn.on_click(evaluate_all)\n",
    "\n",
    "# Step 4: Display everything\n",
    "display(VBox(question_widgets + [submit_btn, result_output]))\n"
   ]
  },
  {
   "cell_type": "code",
   "execution_count": null,
   "id": "ea3847fd-680e-461b-994b-42b5e52c12d7",
   "metadata": {},
   "outputs": [],
   "source": []
  }
 ],
 "metadata": {
  "kernelspec": {
   "display_name": "base",
   "language": "python",
   "name": "python3"
  },
  "language_info": {
   "codemirror_mode": {
    "name": "ipython",
    "version": 3
   },
   "file_extension": ".py",
   "mimetype": "text/x-python",
   "name": "python",
   "nbconvert_exporter": "python",
   "pygments_lexer": "ipython3",
   "version": "3.13.5"
  }
 },
 "nbformat": 4,
 "nbformat_minor": 5
}
